{
 "cells": [
  {
   "cell_type": "code",
   "execution_count": 64,
   "metadata": {},
   "outputs": [],
   "source": [
    "import requests\n",
    "import browsercookie\n",
    "import pickle\n",
    "import os\n",
    "import pandas as pd\n",
    "import json\n",
    "import time \n",
    "\n",
    "NEED_INIT = True\n",
    "SLEEP_INTERVAL = 10\n",
    "PICKLE_PATH = \"data/submissions.p\"\n",
    "CSV_PATH=\"data/submssions.csv\"\n",
    "submissions = {}\n",
    "url = \"https://leetcode.com/api/submissions/?offset={}&limit=20&lastkey=\"\n",
    "user_agent = 'Mozilla/5.0 (Macintosh; Intel Mac OS X 10_15_2) AppleWebKit/537.36 (KHTML, like Gecko) Chrome/79.0.3945.130 Safari/537.36'\n",
    "HEADERS = {'User-Agent': user_agent, 'Connection': 'keep-alive'}\n",
    "\n",
    "cj = browsercookie.chrome()"
   ]
  },
  {
   "cell_type": "code",
   "execution_count": 52,
   "metadata": {},
   "outputs": [],
   "source": [
    "if os.path.exists(PICKLE_PATH):\n",
    "    with open(PICKLE_PATH, \"rb\") as inp:\n",
    "        submissions = pickle.load(inp)"
   ]
  },
  {
   "cell_type": "code",
   "execution_count": 53,
   "metadata": {},
   "outputs": [
    {
     "data": {
      "text/plain": [
       "{}"
      ]
     },
     "execution_count": 53,
     "metadata": {},
     "output_type": "execute_result"
    }
   ],
   "source": [
    "submissions"
   ]
  },
  {
   "cell_type": "code",
   "execution_count": 54,
   "metadata": {},
   "outputs": [
    {
     "name": "stdout",
     "output_type": "stream",
     "text": [
      "Loading 0-19... We now have collected 20 submissions.\n",
      "Loading 20-39... We now have collected 40 submissions.\n",
      "Loading 40-59... We now have collected 60 submissions.\n",
      "Loading 60-79... We now have collected 80 submissions.\n",
      "Loading 80-99... We now have collected 100 submissions.\n",
      "Loading 100-119... We now have collected 120 submissions.\n",
      "Loading 120-139... We now have collected 140 submissions.\n",
      "Loading 140-159... We now have collected 160 submissions.\n",
      "Loading 160-179... We now have collected 180 submissions.\n",
      "Loading 180-199... We now have collected 200 submissions.\n",
      "Loading 200-219... We now have collected 220 submissions.\n",
      "Loading 220-239... We now have collected 240 submissions.\n",
      "Loading 240-259... We now have collected 260 submissions.\n",
      "Loading 260-279... We now have collected 280 submissions.\n",
      "Loading 280-299... We now have collected 300 submissions.\n",
      "Loading 300-319... We now have collected 320 submissions.\n",
      "Loading 320-339... We now have collected 340 submissions.\n",
      "Loading 340-359... We now have collected 360 submissions.\n",
      "Loading 360-379... We now have collected 380 submissions.\n",
      "Loading 380-399... We now have collected 400 submissions.\n",
      "Loading 400-419... We now have collected 420 submissions.\n",
      "Loading 420-439... We now have collected 440 submissions.\n",
      "Loading 440-459... We now have collected 460 submissions.\n",
      "Loading 460-479... We now have collected 480 submissions.\n",
      "Loading 480-499... We now have collected 500 submissions.\n",
      "Loading 500-519... We now have collected 520 submissions.\n",
      "Loading 520-539... We now have collected 540 submissions.\n",
      "Loading 540-559... We now have collected 560 submissions.\n",
      "Loading 560-579... We now have collected 580 submissions.\n",
      "Loading 580-599... We now have collected 600 submissions.\n",
      "Loading 600-619... We now have collected 620 submissions.\n",
      "Loading 620-639... We now have collected 640 submissions.\n",
      "Loading 640-659... We now have collected 660 submissions.\n",
      "Loading 660-679... We now have collected 680 submissions.\n",
      "Loading 680-699... We now have collected 700 submissions.\n",
      "Loading 700-719... We now have collected 720 submissions.\n",
      "Loading 720-739... We now have collected 740 submissions.\n",
      "Loading 740-759... We now have collected 760 submissions.\n",
      "Loading 760-779... We now have collected 780 submissions.\n",
      "Loading 780-799... We now have collected 800 submissions.\n",
      "Loading 800-819... We now have collected 820 submissions.\n",
      "Loading 820-839... We now have collected 840 submissions.\n",
      "Loading 840-859... We now have collected 859 submissions.\n",
      "https://leetcode.com/api/submissions/?offset=860&limit=20&lastkey= does not provide any records. It may be the end.\n"
     ]
    }
   ],
   "source": [
    "offset = 0\n",
    "while True:\n",
    "    req = requests.get(url.format(offset), cookies=cj, headers=HEADERS)\n",
    "    records = json.loads(req.text)[\"submissions_dump\"]\n",
    "\n",
    "    if len(records) == 0:\n",
    "        print(url.format(offset)+\" does not provide any records. It may be the end.\")\n",
    "        break\n",
    "        \n",
    "    found_prev = False \n",
    "    for rec in records:\n",
    "        if not rec['id'] in submissions:\n",
    "            submissions[rec['id']] = rec    \n",
    "        else:\n",
    "            if not NEED_INIT:\n",
    "                found_prev = True\n",
    "                break\n",
    "    if found_prev:\n",
    "        print(url.format(offset)+\" shows a record which we have collected. So, we don't need to proceed further.\")\n",
    "        break\n",
    "        \n",
    "    print(\"Loading {}-{}... We now have collected {} submissions.\".format(offset,offset+19, len(submissions)))\n",
    "    time.sleep(SLEEP_INTERVAL)\n",
    "    offset += 20"
   ]
  },
  {
   "cell_type": "code",
   "execution_count": 60,
   "metadata": {},
   "outputs": [
    {
     "name": "stdout",
     "output_type": "stream",
     "text": [
      "859 records have been stored at 'data/submissions.p'\n"
     ]
    }
   ],
   "source": [
    "with open(PICKLE_PATH, \"wb\") as oup:\n",
    "    pickle.dump(submissions, oup)\n",
    "    \n",
    "print(\"{} records have been stored at '{}'\".format(len(submissions), PICKLE_PATH))"
   ]
  },
  {
   "cell_type": "code",
   "execution_count": 63,
   "metadata": {},
   "outputs": [
    {
     "data": {
      "text/html": [
       "<div>\n",
       "<style scoped>\n",
       "    .dataframe tbody tr th:only-of-type {\n",
       "        vertical-align: middle;\n",
       "    }\n",
       "\n",
       "    .dataframe tbody tr th {\n",
       "        vertical-align: top;\n",
       "    }\n",
       "\n",
       "    .dataframe thead th {\n",
       "        text-align: right;\n",
       "    }\n",
       "</style>\n",
       "<table border=\"1\" class=\"dataframe\">\n",
       "  <thead>\n",
       "    <tr style=\"text-align: right;\">\n",
       "      <th></th>\n",
       "      <th>id</th>\n",
       "      <th>lang</th>\n",
       "      <th>time</th>\n",
       "      <th>timestamp</th>\n",
       "      <th>status_display</th>\n",
       "      <th>runtime</th>\n",
       "      <th>url</th>\n",
       "      <th>is_pending</th>\n",
       "      <th>title</th>\n",
       "      <th>memory</th>\n",
       "      <th>code</th>\n",
       "      <th>compare_result</th>\n",
       "    </tr>\n",
       "  </thead>\n",
       "  <tbody>\n",
       "    <tr>\n",
       "      <th>0</th>\n",
       "      <td>378488337</td>\n",
       "      <td>javascript</td>\n",
       "      <td>1 hour, 2 minutes</td>\n",
       "      <td>1596997036</td>\n",
       "      <td>Accepted</td>\n",
       "      <td>152 ms</td>\n",
       "      <td>/submissions/detail/378488337/</td>\n",
       "      <td>Not Pending</td>\n",
       "      <td>Number of Sub-arrays With Odd Sum</td>\n",
       "      <td>58.5 MB</td>\n",
       "      <td>/**\\n * @param {number[]} arr\\n * @return {num...</td>\n",
       "      <td>1111111111111111111111111111111111111111111111...</td>\n",
       "    </tr>\n",
       "    <tr>\n",
       "      <th>1</th>\n",
       "      <td>378478285</td>\n",
       "      <td>javascript</td>\n",
       "      <td>1 hour, 28 minutes</td>\n",
       "      <td>1596995516</td>\n",
       "      <td>Accepted</td>\n",
       "      <td>88 ms</td>\n",
       "      <td>/submissions/detail/378478285/</td>\n",
       "      <td>Not Pending</td>\n",
       "      <td>Count Number of Teams</td>\n",
       "      <td>36.6 MB</td>\n",
       "      <td>/**\\n * @param {number[]} rating\\n * @return {...</td>\n",
       "      <td>1111111111111111111111111111111111111111111111...</td>\n",
       "    </tr>\n",
       "    <tr>\n",
       "      <th>2</th>\n",
       "      <td>378474658</td>\n",
       "      <td>javascript</td>\n",
       "      <td>1 hour, 37 minutes</td>\n",
       "      <td>1596994944</td>\n",
       "      <td>Accepted</td>\n",
       "      <td>76 ms</td>\n",
       "      <td>/submissions/detail/378474658/</td>\n",
       "      <td>Not Pending</td>\n",
       "      <td>Reformat Date</td>\n",
       "      <td>36.9 MB</td>\n",
       "      <td>/**\\n * @param {string} date\\n * @return {stri...</td>\n",
       "      <td>1111111111111111111111111111111111111111111111...</td>\n",
       "    </tr>\n",
       "    <tr>\n",
       "      <th>3</th>\n",
       "      <td>378472770</td>\n",
       "      <td>python</td>\n",
       "      <td>1 hour, 42 minutes</td>\n",
       "      <td>1596994654</td>\n",
       "      <td>Accepted</td>\n",
       "      <td>36 ms</td>\n",
       "      <td>/submissions/detail/378472770/</td>\n",
       "      <td>Not Pending</td>\n",
       "      <td>Pancake Sorting</td>\n",
       "      <td>12.7 MB</td>\n",
       "      <td>class Solution(object):\\n    def pancakeSort(s...</td>\n",
       "      <td>1111111111111111111111111111111111111111111111...</td>\n",
       "    </tr>\n",
       "    <tr>\n",
       "      <th>4</th>\n",
       "      <td>378466216</td>\n",
       "      <td>javascript</td>\n",
       "      <td>1 hour, 59 minutes</td>\n",
       "      <td>1596993630</td>\n",
       "      <td>Accepted</td>\n",
       "      <td>72 ms</td>\n",
       "      <td>/submissions/detail/378466216/</td>\n",
       "      <td>Not Pending</td>\n",
       "      <td>Kth Missing Positive Number</td>\n",
       "      <td>37.4 MB</td>\n",
       "      <td>/**\\n * @param {number[]} arr\\n * @param {numb...</td>\n",
       "      <td>1111111111111111111111111111111111111111111111...</td>\n",
       "    </tr>\n",
       "  </tbody>\n",
       "</table>\n",
       "</div>"
      ],
      "text/plain": [
       "          id        lang                time   timestamp status_display  \\\n",
       "0  378488337  javascript   1 hour, 2 minutes  1596997036       Accepted   \n",
       "1  378478285  javascript  1 hour, 28 minutes  1596995516       Accepted   \n",
       "2  378474658  javascript  1 hour, 37 minutes  1596994944       Accepted   \n",
       "3  378472770      python  1 hour, 42 minutes  1596994654       Accepted   \n",
       "4  378466216  javascript  1 hour, 59 minutes  1596993630       Accepted   \n",
       "\n",
       "  runtime                             url   is_pending  \\\n",
       "0  152 ms  /submissions/detail/378488337/  Not Pending   \n",
       "1   88 ms  /submissions/detail/378478285/  Not Pending   \n",
       "2   76 ms  /submissions/detail/378474658/  Not Pending   \n",
       "3   36 ms  /submissions/detail/378472770/  Not Pending   \n",
       "4   72 ms  /submissions/detail/378466216/  Not Pending   \n",
       "\n",
       "                               title   memory  \\\n",
       "0  Number of Sub-arrays With Odd Sum  58.5 MB   \n",
       "1              Count Number of Teams  36.6 MB   \n",
       "2                      Reformat Date  36.9 MB   \n",
       "3                    Pancake Sorting  12.7 MB   \n",
       "4        Kth Missing Positive Number  37.4 MB   \n",
       "\n",
       "                                                code  \\\n",
       "0  /**\\n * @param {number[]} arr\\n * @return {num...   \n",
       "1  /**\\n * @param {number[]} rating\\n * @return {...   \n",
       "2  /**\\n * @param {string} date\\n * @return {stri...   \n",
       "3  class Solution(object):\\n    def pancakeSort(s...   \n",
       "4  /**\\n * @param {number[]} arr\\n * @param {numb...   \n",
       "\n",
       "                                      compare_result  \n",
       "0  1111111111111111111111111111111111111111111111...  \n",
       "1  1111111111111111111111111111111111111111111111...  \n",
       "2  1111111111111111111111111111111111111111111111...  \n",
       "3  1111111111111111111111111111111111111111111111...  \n",
       "4  1111111111111111111111111111111111111111111111...  "
      ]
     },
     "execution_count": 63,
     "metadata": {},
     "output_type": "execute_result"
    }
   ],
   "source": [
    "df = pd.DataFrame([x[1] for x in submissions.items()])\n",
    "df.head()"
   ]
  },
  {
   "cell_type": "code",
   "execution_count": 65,
   "metadata": {},
   "outputs": [
    {
     "name": "stdout",
     "output_type": "stream",
     "text": [
      "A data frame file has been stored at 'data/submssions.csv'\n"
     ]
    }
   ],
   "source": [
    "df.to_csv(CSV_PATH, index=False)\n",
    "print(\"A data frame file has been stored at '{}'\".format(CSV_PATH))"
   ]
  }
 ],
 "metadata": {
  "kernelspec": {
   "display_name": "Python 3",
   "language": "python",
   "name": "python3"
  },
  "language_info": {
   "codemirror_mode": {
    "name": "ipython",
    "version": 3
   },
   "file_extension": ".py",
   "mimetype": "text/x-python",
   "name": "python",
   "nbconvert_exporter": "python",
   "pygments_lexer": "ipython3",
   "version": "3.7.6"
  }
 },
 "nbformat": 4,
 "nbformat_minor": 4
}
